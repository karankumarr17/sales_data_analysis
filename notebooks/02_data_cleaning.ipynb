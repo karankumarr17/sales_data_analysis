{
 "cells": [
  {
   "cell_type": "code",
   "execution_count": 12,
   "id": "664b9737",
   "metadata": {},
   "outputs": [],
   "source": [
    "import pandas as pd"
   ]
  },
  {
   "cell_type": "code",
   "execution_count": 13,
   "id": "9210e8a3",
   "metadata": {},
   "outputs": [],
   "source": [
    "df = pd.read_csv(r\"C:\\Users\\neman\\Documents\\sales_data_analysis\\data\\Furniture.csv\")"
   ]
  },
  {
   "cell_type": "code",
   "execution_count": 14,
   "id": "89fe499f",
   "metadata": {},
   "outputs": [],
   "source": [
    "df.columns = df.columns.str.strip()"
   ]
  },
  {
   "cell_type": "code",
   "execution_count": 16,
   "id": "bca3fa3c",
   "metadata": {},
   "outputs": [],
   "source": [
    "df['Profit_Status'] = df['revenue'].apply(lambda x: 'Loss' if x < 0 else 'Profit')"
   ]
  },
  {
   "cell_type": "code",
   "execution_count": 17,
   "id": "0669a5a0",
   "metadata": {},
   "outputs": [],
   "source": [
    "df['season'] = df['season'].str.capitalize().str.strip()"
   ]
  },
  {
   "cell_type": "code",
   "execution_count": 18,
   "id": "ac9c3d7b",
   "metadata": {},
   "outputs": [],
   "source": [
    "df['category'] = df['category'].str.title().str.strip()"
   ]
  },
  {
   "cell_type": "code",
   "execution_count": 19,
   "id": "a88f305b",
   "metadata": {},
   "outputs": [],
   "source": [
    "numeric_cols = ['price', 'cost', 'sales', 'inventory', 'revenue', 'delivery_days']\n",
    "df[numeric_cols] = df[numeric_cols].apply(pd.to_numeric, errors='coerce')"
   ]
  },
  {
   "cell_type": "code",
   "execution_count": 22,
   "id": "cd44b8f5",
   "metadata": {},
   "outputs": [
    {
     "name": "stdout",
     "output_type": "stream",
     "text": [
      "✅ Cleaned dataset saved successfully.\n"
     ]
    }
   ],
   "source": [
    "df.to_csv(r\"C:\\Users\\neman\\Documents\\sales_data_analysis\\/data/Furniture_cleaned.csv\", index=False)\n",
    "print(\"✅ Cleaned dataset saved successfully.\")"
   ]
  },
  {
   "cell_type": "markdown",
   "id": "8fb53a7d",
   "metadata": {},
   "source": [
    "All data cleaning steps were done via Excel Power Query and verified here for reproducibility."
   ]
  },
  {
   "cell_type": "markdown",
   "id": "fbe4b5b4",
   "metadata": {},
   "source": [
    "Week 2"
   ]
  },
  {
   "cell_type": "code",
   "execution_count": 1,
   "id": "8dc4620e",
   "metadata": {},
   "outputs": [],
   "source": [
    "import pandas as pd\n",
    "import os\n",
    "\n",
    "df = pd.read_csv(r\"C:\\Users\\neman\\Documents\\sales_data_analysis\\data\\Cleaned_Data_Furniture_With_New_Columns.csv\")"
   ]
  },
  {
   "cell_type": "code",
   "execution_count": 2,
   "id": "ccbe763c",
   "metadata": {},
   "outputs": [],
   "source": [
    "os.makedirs(\"data\", exist_ok=True)"
   ]
  },
  {
   "cell_type": "code",
   "execution_count": 3,
   "id": "043b1cd7",
   "metadata": {},
   "outputs": [
    {
     "name": "stdout",
     "output_type": "stream",
     "text": [
      "Duplicate rows before: 0\n",
      "Duplicate rows after: 0\n"
     ]
    }
   ],
   "source": [
    "print(\"Duplicate rows before:\", df.duplicated().sum())\n",
    "df = df.drop_duplicates()\n",
    "print(\"Duplicate rows after:\", df.duplicated().sum())"
   ]
  },
  {
   "cell_type": "code",
   "execution_count": 4,
   "id": "c803e7f8",
   "metadata": {},
   "outputs": [
    {
     "name": "stdout",
     "output_type": "stream",
     "text": [
      "Negative prices: 0\n",
      "Negative inventory: 0\n"
     ]
    }
   ],
   "source": [
    "print(\"Negative prices:\", (df['price'] < 0).sum())\n",
    "print(\"Negative inventory:\", (df['inventory'] < 0).sum())\n",
    "df['price'] = df['price'].apply(lambda x: x if x >=0 else 0)\n",
    "df['inventory'] = df['inventory'].apply(lambda x: x if x >=0 else 0)"
   ]
  },
  {
   "cell_type": "code",
   "execution_count": 5,
   "id": "752c9842",
   "metadata": {},
   "outputs": [
    {
     "name": "stdout",
     "output_type": "stream",
     "text": [
      "\n",
      "Missing values per column:\n",
      "price                     0\n",
      "cost                      0\n",
      "sales                     0\n",
      "profit_margin             0\n",
      "inventory                 0\n",
      "discount_percentage       0\n",
      "delivery_days             0\n",
      "category                  0\n",
      "material                  0\n",
      "color                     0\n",
      "location                  0\n",
      "season                    0\n",
      "store_type                0\n",
      "brand                     0\n",
      "revenue                   0\n",
      "Profit                    0\n",
      "Profit_Status             0\n",
      "Profit_Margin_%           0\n",
      "Revenue_per_Sale          0\n",
      "Revenue_per_Inventory    21\n",
      "Unit_Cost                 0\n",
      "Is_High_Value             0\n",
      "Price_Category            0\n",
      "dtype: int64\n"
     ]
    }
   ],
   "source": [
    "print(\"\\nMissing values per column:\")\n",
    "print(df.isnull().sum())"
   ]
  },
  {
   "cell_type": "code",
   "execution_count": 6,
   "id": "42abff64",
   "metadata": {},
   "outputs": [
    {
     "name": "stdout",
     "output_type": "stream",
     "text": [
      "\n",
      "--- Profit overview ---\n",
      "Non-null count: 2500\n",
      "count     2500.000000\n",
      "mean      5734.923550\n",
      "std       6867.788553\n",
      "min     -14352.849380\n",
      "25%       1079.159091\n",
      "50%       5313.006528\n",
      "75%      10027.743640\n",
      "max      32645.706190\n",
      "Name: Profit, dtype: float64\n",
      "\n",
      "--- Profit_Margin_% overview ---\n",
      "Non-null count: 2500\n",
      "count    2500.000000\n",
      "mean      100.486575\n",
      "std       179.230367\n",
      "min     -2964.156746\n",
      "25%        96.306172\n",
      "50%        97.965879\n",
      "75%        99.062840\n",
      "max      8349.465856\n",
      "Name: Profit_Margin_%, dtype: float64\n",
      "\n",
      "--- Revenue_per_Sale overview ---\n",
      "Non-null count: 2500\n",
      "count     2500.000000\n",
      "mean       213.617775\n",
      "std        972.747762\n",
      "min     -14214.565510\n",
      "25%         56.827339\n",
      "50%        231.883520\n",
      "75%        422.918267\n",
      "max      11408.746550\n",
      "Name: Revenue_per_Sale, dtype: float64\n",
      "\n",
      "--- Revenue_per_Inventory overview ---\n",
      "Non-null count: 2479\n",
      "count     2479.000000\n",
      "mean       186.742145\n",
      "std        991.898581\n",
      "min      -6599.225594\n",
      "25%         11.095223\n",
      "50%         56.804525\n",
      "75%        133.612930\n",
      "max      23822.889930\n",
      "Name: Revenue_per_Inventory, dtype: float64\n",
      "\n",
      "--- Unit_Cost overview ---\n",
      "Non-null count: 2500\n",
      "count    2500.000000\n",
      "mean       16.748037\n",
      "std        32.074646\n",
      "min         0.642023\n",
      "25%         4.331610\n",
      "50%         7.681042\n",
      "75%        14.630589\n",
      "max       389.411199\n",
      "Name: Unit_Cost, dtype: float64\n",
      "\n",
      "--- Is_High_Value overview ---\n",
      "Non-null count: 2500\n",
      "Is_High_Value\n",
      "Yes    1904\n",
      "No      596\n",
      "Name: count, dtype: int64\n",
      "\n",
      "--- Price_Category overview ---\n",
      "Non-null count: 2500\n",
      "Price_Category\n",
      "Medium    1649\n",
      "High       558\n",
      "Low        293\n",
      "Name: count, dtype: int64\n"
     ]
    }
   ],
   "source": [
    "new_cols = ['Profit','Profit_Margin_%','Revenue_per_Sale','Revenue_per_Inventory','Unit_Cost','Is_High_Value','Price_Category']\n",
    "\n",
    "for c in new_cols:\n",
    "    if c in df.columns:\n",
    "        print(f\"\\n--- {c} overview ---\")\n",
    "        print(\"Non-null count:\", df[c].notnull().sum())\n",
    "        if pd.api.types.is_numeric_dtype(df[c]):\n",
    "            print(df[c].describe())\n",
    "        else:\n",
    "            print(df[c].value_counts(dropna=False).head())\n",
    "    else:\n",
    "        print(f\"\\n!!! Column missing: {c}\")"
   ]
  },
  {
   "cell_type": "code",
   "execution_count": 7,
   "id": "c032cc41",
   "metadata": {},
   "outputs": [
    {
     "name": "stdout",
     "output_type": "stream",
     "text": [
      "           revenue  inventory  Revenue_per_Inventory\n",
      "67    12716.512330          0                    NaN\n",
      "255     798.483661          0                    NaN\n",
      "279    3075.262282          0                    NaN\n",
      "334    2850.460710          0                    NaN\n",
      "691   -7434.525164          0                    NaN\n",
      "708    2580.279892          0                    NaN\n",
      "918   12392.287790          0                    NaN\n",
      "1009   2146.006677          0                    NaN\n",
      "1050  22780.258470          0                    NaN\n",
      "1076   3736.171505          0                    NaN\n",
      "1261   6603.142928          0                    NaN\n",
      "1296   4243.488859          0                    NaN\n",
      "1529    188.342557          0                    NaN\n",
      "1670   8297.875774          0                    NaN\n",
      "1735  16096.650710          0                    NaN\n",
      "1848   4620.472283          0                    NaN\n",
      "1920  22784.486420          0                    NaN\n",
      "2035 -11683.646590          0                    NaN\n",
      "2037   3015.876924          0                    NaN\n",
      "2245  12671.720900          0                    NaN\n",
      "2492  10644.485660          0                    NaN\n"
     ]
    }
   ],
   "source": [
    "empty_rows = df[df['Revenue_per_Inventory'].isnull()]\n",
    "print(empty_rows[['revenue','inventory','Revenue_per_Inventory']])"
   ]
  },
  {
   "cell_type": "code",
   "execution_count": 8,
   "id": "46f4cc8c",
   "metadata": {},
   "outputs": [
    {
     "name": "stdout",
     "output_type": "stream",
     "text": [
      "Before filling missing values:\n",
      "           revenue  inventory  Revenue_per_Inventory\n",
      "67    12716.512330          0                    NaN\n",
      "255     798.483661          0                    NaN\n",
      "279    3075.262282          0                    NaN\n",
      "334    2850.460710          0                    NaN\n",
      "691   -7434.525164          0                    NaN\n",
      "708    2580.279892          0                    NaN\n",
      "918   12392.287790          0                    NaN\n",
      "1009   2146.006677          0                    NaN\n",
      "1050  22780.258470          0                    NaN\n",
      "1076   3736.171505          0                    NaN\n",
      "1261   6603.142928          0                    NaN\n",
      "1296   4243.488859          0                    NaN\n",
      "1529    188.342557          0                    NaN\n",
      "1670   8297.875774          0                    NaN\n",
      "1735  16096.650710          0                    NaN\n",
      "1848   4620.472283          0                    NaN\n",
      "1920  22784.486420          0                    NaN\n",
      "2035 -11683.646590          0                    NaN\n",
      "2037   3015.876924          0                    NaN\n",
      "2245  12671.720900          0                    NaN\n",
      "2492  10644.485660          0                    NaN\n"
     ]
    }
   ],
   "source": [
    "missing_rows = df[df['Revenue_per_Inventory'].isnull()]\n",
    "print(\"Before filling missing values:\")\n",
    "print(missing_rows[['revenue','inventory','Revenue_per_Inventory']])"
   ]
  },
  {
   "cell_type": "code",
   "execution_count": 9,
   "id": "989370c9",
   "metadata": {},
   "outputs": [],
   "source": [
    "# Calculate median ignoring NaNs\n",
    "median_value = df['Revenue_per_Inventory'].median()"
   ]
  },
  {
   "cell_type": "code",
   "execution_count": 10,
   "id": "820f33e9",
   "metadata": {},
   "outputs": [],
   "source": [
    "df['Revenue_per_Inventory'] = df['Revenue_per_Inventory'].fillna(median_value)"
   ]
  },
  {
   "cell_type": "code",
   "execution_count": null,
   "id": "fbd10e05",
   "metadata": {},
   "outputs": [
    {
     "name": "stdout",
     "output_type": "stream",
     "text": [
      "\n",
      "After filling missing values:\n",
      "           revenue  inventory  Revenue_per_Inventory\n",
      "67    12716.512330          0              56.804525\n",
      "255     798.483661          0              56.804525\n",
      "279    3075.262282          0              56.804525\n",
      "334    2850.460710          0              56.804525\n",
      "691   -7434.525164          0              56.804525\n",
      "708    2580.279892          0              56.804525\n",
      "918   12392.287790          0              56.804525\n",
      "1009   2146.006677          0              56.804525\n",
      "1050  22780.258470          0              56.804525\n",
      "1076   3736.171505          0              56.804525\n",
      "1261   6603.142928          0              56.804525\n",
      "1296   4243.488859          0              56.804525\n",
      "1529    188.342557          0              56.804525\n",
      "1670   8297.875774          0              56.804525\n",
      "1735  16096.650710          0              56.804525\n",
      "1848   4620.472283          0              56.804525\n",
      "1920  22784.486420          0              56.804525\n",
      "2035 -11683.646590          0              56.804525\n",
      "2037   3015.876924          0              56.804525\n",
      "2245  12671.720900          0              56.804525\n",
      "2492  10644.485660          0              56.804525\n"
     ]
    }
   ],
   "source": [
    "filled_rows = df.iloc[missing_rows.index]  \n",
    "print(\"\\nAfter filling missing values:\")\n",
    "print(filled_rows[['revenue','inventory','Revenue_per_Inventory']])"
   ]
  },
  {
   "cell_type": "code",
   "execution_count": 16,
   "id": "55d331f6",
   "metadata": {},
   "outputs": [],
   "source": [
    "# 4. Ensure Profit_Status is consistent with Profit\n",
    "df.loc[df['Profit'] > 0, 'Profit_Status'] = 'Profit'\n",
    "df.loc[df['Profit'] <= 0, 'Profit_Status'] = 'Loss'"
   ]
  },
  {
   "cell_type": "code",
   "execution_count": 19,
   "id": "d6fe163d",
   "metadata": {},
   "outputs": [
    {
     "name": "stdout",
     "output_type": "stream",
     "text": [
      "Cleaned files saved successfully.\n"
     ]
    }
   ],
   "source": [
    "df.to_csv(r\"C:\\Users\\neman\\Documents\\sales_data_analysis\\data\\Furniture_cleaned_no_missing_values.csv\", index=False)\n",
    "df.to_excel(r\"C:\\Users\\neman\\Documents\\sales_data_analysis\\excel\\Furniture_cleaned_no_missing_values.xlsx\", index=False)\n",
    "print(\"Cleaned files saved successfully.\")"
   ]
  }
 ],
 "metadata": {
  "kernelspec": {
   "display_name": "Python 3",
   "language": "python",
   "name": "python3"
  },
  "language_info": {
   "codemirror_mode": {
    "name": "ipython",
    "version": 3
   },
   "file_extension": ".py",
   "mimetype": "text/x-python",
   "name": "python",
   "nbconvert_exporter": "python",
   "pygments_lexer": "ipython3",
   "version": "3.14.0"
  }
 },
 "nbformat": 4,
 "nbformat_minor": 5
}
