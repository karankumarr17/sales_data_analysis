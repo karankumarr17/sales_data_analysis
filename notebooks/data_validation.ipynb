{
 "cells": [
  {
   "cell_type": "code",
   "execution_count": 1,
   "id": "7405bd8f",
   "metadata": {},
   "outputs": [],
   "source": [
    "import pandas as pd\n",
    "import numpy as np"
   ]
  },
  {
   "cell_type": "code",
   "execution_count": 2,
   "id": "c5605af6",
   "metadata": {},
   "outputs": [],
   "source": [
    "df = pd.read_csv(r\"C:\\Users\\neman\\Documents\\sales_data_analysis\\data\\Furniture_cleaned.csv\")"
   ]
  },
  {
   "cell_type": "code",
   "execution_count": 3,
   "id": "a300e848",
   "metadata": {},
   "outputs": [
    {
     "data": {
      "text/html": [
       "<div>\n",
       "<style scoped>\n",
       "    .dataframe tbody tr th:only-of-type {\n",
       "        vertical-align: middle;\n",
       "    }\n",
       "\n",
       "    .dataframe tbody tr th {\n",
       "        vertical-align: top;\n",
       "    }\n",
       "\n",
       "    .dataframe thead th {\n",
       "        text-align: right;\n",
       "    }\n",
       "</style>\n",
       "<table border=\"1\" class=\"dataframe\">\n",
       "  <thead>\n",
       "    <tr style=\"text-align: right;\">\n",
       "      <th></th>\n",
       "      <th>price</th>\n",
       "      <th>cost</th>\n",
       "      <th>sales</th>\n",
       "      <th>profit_margin</th>\n",
       "      <th>inventory</th>\n",
       "      <th>discount_percentage</th>\n",
       "      <th>delivery_days</th>\n",
       "      <th>category</th>\n",
       "      <th>material</th>\n",
       "      <th>color</th>\n",
       "      <th>location</th>\n",
       "      <th>season</th>\n",
       "      <th>store_type</th>\n",
       "      <th>brand</th>\n",
       "      <th>revenue</th>\n",
       "      <th>Profit_Status</th>\n",
       "    </tr>\n",
       "  </thead>\n",
       "  <tbody>\n",
       "    <tr>\n",
       "      <th>0</th>\n",
       "      <td>218.543054</td>\n",
       "      <td>181.610932</td>\n",
       "      <td>40</td>\n",
       "      <td>16.899243</td>\n",
       "      <td>105</td>\n",
       "      <td>27.796433</td>\n",
       "      <td>9</td>\n",
       "      <td>Bed</td>\n",
       "      <td>Plastic</td>\n",
       "      <td>Red</td>\n",
       "      <td>Rural</td>\n",
       "      <td>Spring</td>\n",
       "      <td>Online</td>\n",
       "      <td>BrandA</td>\n",
       "      <td>3949.165238</td>\n",
       "      <td>Profit</td>\n",
       "    </tr>\n",
       "    <tr>\n",
       "      <th>1</th>\n",
       "      <td>477.821438</td>\n",
       "      <td>385.033827</td>\n",
       "      <td>7</td>\n",
       "      <td>19.418888</td>\n",
       "      <td>192</td>\n",
       "      <td>26.943715</td>\n",
       "      <td>6</td>\n",
       "      <td>Chair</td>\n",
       "      <td>Glass</td>\n",
       "      <td>Blue</td>\n",
       "      <td>Rural</td>\n",
       "      <td>Summer</td>\n",
       "      <td>Online</td>\n",
       "      <td>BrandD</td>\n",
       "      <td>-3521.002258</td>\n",
       "      <td>Loss</td>\n",
       "    </tr>\n",
       "    <tr>\n",
       "      <th>2</th>\n",
       "      <td>379.397274</td>\n",
       "      <td>276.736765</td>\n",
       "      <td>32</td>\n",
       "      <td>27.058842</td>\n",
       "      <td>59</td>\n",
       "      <td>21.948130</td>\n",
       "      <td>2</td>\n",
       "      <td>Table</td>\n",
       "      <td>Metal</td>\n",
       "      <td>Black</td>\n",
       "      <td>Suburban</td>\n",
       "      <td>Fall</td>\n",
       "      <td>Online</td>\n",
       "      <td>BrandD</td>\n",
       "      <td>14285.560220</td>\n",
       "      <td>Profit</td>\n",
       "    </tr>\n",
       "    <tr>\n",
       "      <th>3</th>\n",
       "      <td>319.396318</td>\n",
       "      <td>281.841334</td>\n",
       "      <td>48</td>\n",
       "      <td>11.758114</td>\n",
       "      <td>45</td>\n",
       "      <td>11.009944</td>\n",
       "      <td>2</td>\n",
       "      <td>Table</td>\n",
       "      <td>Glass</td>\n",
       "      <td>Green</td>\n",
       "      <td>Rural</td>\n",
       "      <td>Summer</td>\n",
       "      <td>Retail</td>\n",
       "      <td>BrandD</td>\n",
       "      <td>12261.073700</td>\n",
       "      <td>Profit</td>\n",
       "    </tr>\n",
       "    <tr>\n",
       "      <th>4</th>\n",
       "      <td>120.208388</td>\n",
       "      <td>69.743681</td>\n",
       "      <td>19</td>\n",
       "      <td>41.981019</td>\n",
       "      <td>35</td>\n",
       "      <td>3.183763</td>\n",
       "      <td>9</td>\n",
       "      <td>Chair</td>\n",
       "      <td>Glass</td>\n",
       "      <td>Brown</td>\n",
       "      <td>Rural</td>\n",
       "      <td>Fall</td>\n",
       "      <td>Online</td>\n",
       "      <td>BrandD</td>\n",
       "      <td>-4588.255733</td>\n",
       "      <td>Loss</td>\n",
       "    </tr>\n",
       "  </tbody>\n",
       "</table>\n",
       "</div>"
      ],
      "text/plain": [
       "        price        cost  sales  profit_margin  inventory  \\\n",
       "0  218.543054  181.610932     40      16.899243        105   \n",
       "1  477.821438  385.033827      7      19.418888        192   \n",
       "2  379.397274  276.736765     32      27.058842         59   \n",
       "3  319.396318  281.841334     48      11.758114         45   \n",
       "4  120.208388   69.743681     19      41.981019         35   \n",
       "\n",
       "   discount_percentage  delivery_days category material  color  location  \\\n",
       "0            27.796433              9      Bed  Plastic    Red     Rural   \n",
       "1            26.943715              6    Chair    Glass   Blue     Rural   \n",
       "2            21.948130              2    Table    Metal  Black  Suburban   \n",
       "3            11.009944              2    Table    Glass  Green     Rural   \n",
       "4             3.183763              9    Chair    Glass  Brown     Rural   \n",
       "\n",
       "   season store_type   brand       revenue Profit_Status  \n",
       "0  Spring     Online  BrandA   3949.165238        Profit  \n",
       "1  Summer     Online  BrandD  -3521.002258          Loss  \n",
       "2    Fall     Online  BrandD  14285.560220        Profit  \n",
       "3  Summer     Retail  BrandD  12261.073700        Profit  \n",
       "4    Fall     Online  BrandD  -4588.255733          Loss  "
      ]
     },
     "execution_count": 3,
     "metadata": {},
     "output_type": "execute_result"
    }
   ],
   "source": [
    "df.head()"
   ]
  },
  {
   "cell_type": "code",
   "execution_count": 4,
   "id": "1fe27623",
   "metadata": {},
   "outputs": [
    {
     "name": "stdout",
     "output_type": "stream",
     "text": [
      "<class 'pandas.core.frame.DataFrame'>\n",
      "RangeIndex: 2500 entries, 0 to 2499\n",
      "Data columns (total 16 columns):\n",
      " #   Column               Non-Null Count  Dtype  \n",
      "---  ------               --------------  -----  \n",
      " 0   price                2500 non-null   float64\n",
      " 1   cost                 2500 non-null   float64\n",
      " 2   sales                2500 non-null   int64  \n",
      " 3   profit_margin        2500 non-null   float64\n",
      " 4   inventory            2500 non-null   int64  \n",
      " 5   discount_percentage  2500 non-null   float64\n",
      " 6   delivery_days        2500 non-null   int64  \n",
      " 7   category             2500 non-null   object \n",
      " 8   material             2500 non-null   object \n",
      " 9   color                2500 non-null   object \n",
      " 10  location             2500 non-null   object \n",
      " 11  season               2500 non-null   object \n",
      " 12  store_type           2500 non-null   object \n",
      " 13  brand                2500 non-null   object \n",
      " 14  revenue              2500 non-null   float64\n",
      " 15  Profit_Status        2500 non-null   object \n",
      "dtypes: float64(5), int64(3), object(8)\n",
      "memory usage: 312.6+ KB\n"
     ]
    }
   ],
   "source": [
    "df.info()"
   ]
  },
  {
   "cell_type": "code",
   "execution_count": 5,
   "id": "ab4a09ee",
   "metadata": {},
   "outputs": [
    {
     "data": {
      "text/html": [
       "<div>\n",
       "<style scoped>\n",
       "    .dataframe tbody tr th:only-of-type {\n",
       "        vertical-align: middle;\n",
       "    }\n",
       "\n",
       "    .dataframe tbody tr th {\n",
       "        vertical-align: top;\n",
       "    }\n",
       "\n",
       "    .dataframe thead th {\n",
       "        text-align: right;\n",
       "    }\n",
       "</style>\n",
       "<table border=\"1\" class=\"dataframe\">\n",
       "  <thead>\n",
       "    <tr style=\"text-align: right;\">\n",
       "      <th></th>\n",
       "      <th>price</th>\n",
       "      <th>cost</th>\n",
       "      <th>sales</th>\n",
       "      <th>profit_margin</th>\n",
       "      <th>inventory</th>\n",
       "      <th>discount_percentage</th>\n",
       "      <th>delivery_days</th>\n",
       "      <th>revenue</th>\n",
       "    </tr>\n",
       "  </thead>\n",
       "  <tbody>\n",
       "    <tr>\n",
       "      <th>count</th>\n",
       "      <td>2500.000000</td>\n",
       "      <td>2500.000000</td>\n",
       "      <td>2500.000000</td>\n",
       "      <td>2500.000000</td>\n",
       "      <td>2500.000000</td>\n",
       "      <td>2500.000000</td>\n",
       "      <td>2500.00000</td>\n",
       "      <td>2500.000000</td>\n",
       "    </tr>\n",
       "    <tr>\n",
       "      <th>mean</th>\n",
       "      <td>274.495219</td>\n",
       "      <td>191.930107</td>\n",
       "      <td>24.924000</td>\n",
       "      <td>30.208571</td>\n",
       "      <td>97.715600</td>\n",
       "      <td>14.947616</td>\n",
       "      <td>4.89400</td>\n",
       "      <td>5926.853657</td>\n",
       "    </tr>\n",
       "    <tr>\n",
       "      <th>std</th>\n",
       "      <td>130.898452</td>\n",
       "      <td>98.590751</td>\n",
       "      <td>14.050067</td>\n",
       "      <td>11.536804</td>\n",
       "      <td>57.616228</td>\n",
       "      <td>8.621547</td>\n",
       "      <td>2.55902</td>\n",
       "      <td>6902.737604</td>\n",
       "    </tr>\n",
       "    <tr>\n",
       "      <th>min</th>\n",
       "      <td>50.704297</td>\n",
       "      <td>26.505895</td>\n",
       "      <td>1.000000</td>\n",
       "      <td>10.017692</td>\n",
       "      <td>0.000000</td>\n",
       "      <td>0.005556</td>\n",
       "      <td>1.00000</td>\n",
       "      <td>-14214.565510</td>\n",
       "    </tr>\n",
       "    <tr>\n",
       "      <th>25%</th>\n",
       "      <td>159.104890</td>\n",
       "      <td>106.399135</td>\n",
       "      <td>13.000000</td>\n",
       "      <td>20.230697</td>\n",
       "      <td>50.000000</td>\n",
       "      <td>7.760214</td>\n",
       "      <td>3.00000</td>\n",
       "      <td>1216.719194</td>\n",
       "    </tr>\n",
       "    <tr>\n",
       "      <th>50%</th>\n",
       "      <td>277.641809</td>\n",
       "      <td>189.336329</td>\n",
       "      <td>25.000000</td>\n",
       "      <td>30.297911</td>\n",
       "      <td>94.000000</td>\n",
       "      <td>14.915143</td>\n",
       "      <td>5.00000</td>\n",
       "      <td>5523.232713</td>\n",
       "    </tr>\n",
       "    <tr>\n",
       "      <th>75%</th>\n",
       "      <td>387.378046</td>\n",
       "      <td>263.188280</td>\n",
       "      <td>37.000000</td>\n",
       "      <td>40.134205</td>\n",
       "      <td>147.000000</td>\n",
       "      <td>22.292661</td>\n",
       "      <td>7.00000</td>\n",
       "      <td>10233.537980</td>\n",
       "    </tr>\n",
       "    <tr>\n",
       "      <th>max</th>\n",
       "      <td>499.872953</td>\n",
       "      <td>447.022911</td>\n",
       "      <td>49.000000</td>\n",
       "      <td>49.999535</td>\n",
       "      <td>199.000000</td>\n",
       "      <td>29.991229</td>\n",
       "      <td>9.00000</td>\n",
       "      <td>32922.078830</td>\n",
       "    </tr>\n",
       "  </tbody>\n",
       "</table>\n",
       "</div>"
      ],
      "text/plain": [
       "             price         cost        sales  profit_margin    inventory  \\\n",
       "count  2500.000000  2500.000000  2500.000000    2500.000000  2500.000000   \n",
       "mean    274.495219   191.930107    24.924000      30.208571    97.715600   \n",
       "std     130.898452    98.590751    14.050067      11.536804    57.616228   \n",
       "min      50.704297    26.505895     1.000000      10.017692     0.000000   \n",
       "25%     159.104890   106.399135    13.000000      20.230697    50.000000   \n",
       "50%     277.641809   189.336329    25.000000      30.297911    94.000000   \n",
       "75%     387.378046   263.188280    37.000000      40.134205   147.000000   \n",
       "max     499.872953   447.022911    49.000000      49.999535   199.000000   \n",
       "\n",
       "       discount_percentage  delivery_days       revenue  \n",
       "count          2500.000000     2500.00000   2500.000000  \n",
       "mean             14.947616        4.89400   5926.853657  \n",
       "std               8.621547        2.55902   6902.737604  \n",
       "min               0.005556        1.00000 -14214.565510  \n",
       "25%               7.760214        3.00000   1216.719194  \n",
       "50%              14.915143        5.00000   5523.232713  \n",
       "75%              22.292661        7.00000  10233.537980  \n",
       "max              29.991229        9.00000  32922.078830  "
      ]
     },
     "execution_count": 5,
     "metadata": {},
     "output_type": "execute_result"
    }
   ],
   "source": [
    "df.describe()"
   ]
  },
  {
   "cell_type": "code",
   "execution_count": 6,
   "id": "cbf46aea",
   "metadata": {},
   "outputs": [
    {
     "data": {
      "text/plain": [
       "Profit_Status\n",
       "Profit    2018\n",
       "Loss       482\n",
       "Name: count, dtype: int64"
      ]
     },
     "execution_count": 6,
     "metadata": {},
     "output_type": "execute_result"
    }
   ],
   "source": [
    "df['Profit_Status'].value_counts()"
   ]
  },
  {
   "cell_type": "code",
   "execution_count": 7,
   "id": "44b81a87",
   "metadata": {},
   "outputs": [
    {
     "name": "stdout",
     "output_type": "stream",
     "text": [
      "price                  0\n",
      "cost                   0\n",
      "sales                  0\n",
      "profit_margin          0\n",
      "inventory              0\n",
      "discount_percentage    0\n",
      "delivery_days          0\n",
      "category               0\n",
      "material               0\n",
      "color                  0\n",
      "location               0\n",
      "season                 0\n",
      "store_type             0\n",
      "brand                  0\n",
      "revenue                0\n",
      "Profit_Status          0\n",
      "dtype: int64\n"
     ]
    }
   ],
   "source": [
    "print(df.isnull().sum())"
   ]
  },
  {
   "cell_type": "code",
   "execution_count": 8,
   "id": "62756e07",
   "metadata": {},
   "outputs": [
    {
     "name": "stdout",
     "output_type": "stream",
     "text": [
      "Duplicates: 0\n"
     ]
    }
   ],
   "source": [
    "print(\"Duplicates:\", df.duplicated().sum())"
   ]
  },
  {
   "cell_type": "code",
   "execution_count": 9,
   "id": "39c50c1d",
   "metadata": {},
   "outputs": [
    {
     "name": "stdout",
     "output_type": "stream",
     "text": [
      "Missing values:\n",
      " price                  0\n",
      "cost                   0\n",
      "sales                  0\n",
      "profit_margin          0\n",
      "inventory              0\n",
      "discount_percentage    0\n",
      "delivery_days          0\n",
      "category               0\n",
      "material               0\n",
      "color                  0\n",
      "location               0\n",
      "season                 0\n",
      "store_type             0\n",
      "brand                  0\n",
      "revenue                0\n",
      "Profit_Status          0\n",
      "dtype: int64\n"
     ]
    }
   ],
   "source": [
    "print(\"Missing values:\\n\", df.isnull().sum())"
   ]
  },
  {
   "cell_type": "code",
   "execution_count": 10,
   "id": "7576aa2d",
   "metadata": {},
   "outputs": [
    {
     "name": "stdout",
     "output_type": "stream",
     "text": [
      "\n",
      "Data types:\n",
      " price                  float64\n",
      "cost                   float64\n",
      "sales                    int64\n",
      "profit_margin          float64\n",
      "inventory                int64\n",
      "discount_percentage    float64\n",
      "delivery_days            int64\n",
      "category                object\n",
      "material                object\n",
      "color                   object\n",
      "location                object\n",
      "season                  object\n",
      "store_type              object\n",
      "brand                   object\n",
      "revenue                float64\n",
      "Profit_Status           object\n",
      "dtype: object\n"
     ]
    }
   ],
   "source": [
    "print(\"\\nData types:\\n\", df.dtypes)"
   ]
  },
  {
   "cell_type": "code",
   "execution_count": 77,
   "id": "efc1b486",
   "metadata": {},
   "outputs": [
    {
     "name": "stdout",
     "output_type": "stream",
     "text": [
      "✅ Final validated file saved at: C:\\Users\\neman\\Documents\\sales_data_analysis\\validated\\Furniture_final.csv\n"
     ]
    }
   ],
   "source": [
    "final_path = r\"C:\\Users\\neman\\Documents\\sales_data_analysis\\validated\\Furniture_final.csv\"\n",
    "df.to_csv(final_path, index=False)\n",
    "print(\"✅ Final validated file saved at:\", final_path)\n"
   ]
  },
  {
   "cell_type": "code",
   "execution_count": null,
   "id": "46f58f38",
   "metadata": {},
   "outputs": [],
   "source": [
    "import pandas as pd\n",
    "import os\n",
    "\n",
    "df = pd.read_csv(r\"C:\\Users\\neman\\Documents\\sales_data_analysis\\data\\Furniture_cleaned_no_missing_values.csv\")"
   ]
  },
  {
   "cell_type": "code",
   "execution_count": 59,
   "id": "9eedc954",
   "metadata": {},
   "outputs": [],
   "source": [
    "os.makedirs(\"data\", exist_ok=True)"
   ]
  },
  {
   "cell_type": "code",
   "execution_count": 60,
   "id": "96435924",
   "metadata": {},
   "outputs": [],
   "source": [
    "new_cols = ['Profit','Profit_Margin_%','Revenue_per_Sale','Revenue_per_Inventory',\n",
    "            'Unit_Cost','Is_High_Value','Price_Category','Profit_Status']"
   ]
  },
  {
   "cell_type": "code",
   "execution_count": 61,
   "id": "12b402b2",
   "metadata": {},
   "outputs": [
    {
     "name": "stdout",
     "output_type": "stream",
     "text": [
      "Profit exists. Non-null count: 2500\n",
      "Profit_Margin_% exists. Non-null count: 2500\n",
      "Revenue_per_Sale exists. Non-null count: 2500\n",
      "Revenue_per_Inventory exists. Non-null count: 2500\n",
      "Unit_Cost exists. Non-null count: 2500\n",
      "Is_High_Value exists. Non-null count: 2500\n",
      "Price_Category exists. Non-null count: 2500\n",
      "Profit_Status exists. Non-null count: 2500\n"
     ]
    }
   ],
   "source": [
    "for c in new_cols:\n",
    "    if c in df.columns:\n",
    "        print(f\"{c} exists. Non-null count: {df[c].notnull().sum()}\")\n",
    "    else:\n",
    "        print(f\"!!! Column missing: {c}\")"
   ]
  },
  {
   "cell_type": "code",
   "execution_count": 62,
   "id": "75079dd9",
   "metadata": {},
   "outputs": [
    {
     "name": "stdout",
     "output_type": "stream",
     "text": [
      "Duplicate rows: 0\n"
     ]
    }
   ],
   "source": [
    "print(\"Duplicate rows:\", df.duplicated().sum())"
   ]
  },
  {
   "cell_type": "code",
   "execution_count": 63,
   "id": "6e9eccff",
   "metadata": {},
   "outputs": [
    {
     "name": "stdout",
     "output_type": "stream",
     "text": [
      "Negative price count: 0\n",
      "Negative inventory count: 0\n"
     ]
    }
   ],
   "source": [
    "print(\"Negative price count:\", (df['price'] < 0).sum())\n",
    "print(\"Negative inventory count:\", (df['inventory'] < 0).sum())"
   ]
  },
  {
   "cell_type": "code",
   "execution_count": 68,
   "id": "4de1bf78",
   "metadata": {},
   "outputs": [
    {
     "name": "stdout",
     "output_type": "stream",
     "text": [
      "Profit mismatches: 2339\n"
     ]
    },
    {
     "data": {
      "text/html": [
       "<div>\n",
       "<style scoped>\n",
       "    .dataframe tbody tr th:only-of-type {\n",
       "        vertical-align: middle;\n",
       "    }\n",
       "\n",
       "    .dataframe tbody tr th {\n",
       "        vertical-align: top;\n",
       "    }\n",
       "\n",
       "    .dataframe thead th {\n",
       "        text-align: right;\n",
       "    }\n",
       "</style>\n",
       "<table border=\"1\" class=\"dataframe\">\n",
       "  <thead>\n",
       "    <tr style=\"text-align: right;\">\n",
       "      <th></th>\n",
       "      <th>price</th>\n",
       "      <th>cost</th>\n",
       "      <th>sales</th>\n",
       "      <th>profit_margin</th>\n",
       "      <th>inventory</th>\n",
       "      <th>discount_percentage</th>\n",
       "      <th>delivery_days</th>\n",
       "      <th>category</th>\n",
       "      <th>material</th>\n",
       "      <th>color</th>\n",
       "      <th>...</th>\n",
       "      <th>brand</th>\n",
       "      <th>revenue</th>\n",
       "      <th>Profit</th>\n",
       "      <th>Profit_Status</th>\n",
       "      <th>Profit_Margin_%</th>\n",
       "      <th>Revenue_per_Sale</th>\n",
       "      <th>Revenue_per_Inventory</th>\n",
       "      <th>Unit_Cost</th>\n",
       "      <th>Is_High_Value</th>\n",
       "      <th>Price_Category</th>\n",
       "    </tr>\n",
       "  </thead>\n",
       "  <tbody>\n",
       "    <tr>\n",
       "      <th>0</th>\n",
       "      <td>218.543054</td>\n",
       "      <td>181.610932</td>\n",
       "      <td>40</td>\n",
       "      <td>16.899243</td>\n",
       "      <td>105</td>\n",
       "      <td>27.796433</td>\n",
       "      <td>9</td>\n",
       "      <td>Bed</td>\n",
       "      <td>Plastic</td>\n",
       "      <td>Red</td>\n",
       "      <td>...</td>\n",
       "      <td>BrandA</td>\n",
       "      <td>3949.165238</td>\n",
       "      <td>3767.554307</td>\n",
       "      <td>Profit</td>\n",
       "      <td>95.401283</td>\n",
       "      <td>98.729131</td>\n",
       "      <td>37.611098</td>\n",
       "      <td>4.540273</td>\n",
       "      <td>Yes</td>\n",
       "      <td>Medium</td>\n",
       "    </tr>\n",
       "    <tr>\n",
       "      <th>1</th>\n",
       "      <td>477.821438</td>\n",
       "      <td>385.033827</td>\n",
       "      <td>7</td>\n",
       "      <td>19.418888</td>\n",
       "      <td>192</td>\n",
       "      <td>26.943715</td>\n",
       "      <td>6</td>\n",
       "      <td>Chair</td>\n",
       "      <td>Glass</td>\n",
       "      <td>Blue</td>\n",
       "      <td>...</td>\n",
       "      <td>BrandD</td>\n",
       "      <td>-3521.002258</td>\n",
       "      <td>-3906.036085</td>\n",
       "      <td>Loss</td>\n",
       "      <td>110.935347</td>\n",
       "      <td>-503.000322</td>\n",
       "      <td>-18.338553</td>\n",
       "      <td>55.004832</td>\n",
       "      <td>No</td>\n",
       "      <td>High</td>\n",
       "    </tr>\n",
       "    <tr>\n",
       "      <th>2</th>\n",
       "      <td>379.397274</td>\n",
       "      <td>276.736765</td>\n",
       "      <td>32</td>\n",
       "      <td>27.058842</td>\n",
       "      <td>59</td>\n",
       "      <td>21.948130</td>\n",
       "      <td>2</td>\n",
       "      <td>Table</td>\n",
       "      <td>Metal</td>\n",
       "      <td>Black</td>\n",
       "      <td>...</td>\n",
       "      <td>BrandD</td>\n",
       "      <td>14285.560220</td>\n",
       "      <td>14008.823450</td>\n",
       "      <td>Profit</td>\n",
       "      <td>98.062822</td>\n",
       "      <td>446.423757</td>\n",
       "      <td>242.128139</td>\n",
       "      <td>8.648024</td>\n",
       "      <td>Yes</td>\n",
       "      <td>Medium</td>\n",
       "    </tr>\n",
       "    <tr>\n",
       "      <th>3</th>\n",
       "      <td>319.396318</td>\n",
       "      <td>281.841334</td>\n",
       "      <td>48</td>\n",
       "      <td>11.758114</td>\n",
       "      <td>45</td>\n",
       "      <td>11.009944</td>\n",
       "      <td>2</td>\n",
       "      <td>Table</td>\n",
       "      <td>Glass</td>\n",
       "      <td>Green</td>\n",
       "      <td>...</td>\n",
       "      <td>BrandD</td>\n",
       "      <td>12261.073700</td>\n",
       "      <td>11979.232370</td>\n",
       "      <td>Profit</td>\n",
       "      <td>97.701332</td>\n",
       "      <td>255.439035</td>\n",
       "      <td>272.468304</td>\n",
       "      <td>5.871694</td>\n",
       "      <td>Yes</td>\n",
       "      <td>Medium</td>\n",
       "    </tr>\n",
       "    <tr>\n",
       "      <th>4</th>\n",
       "      <td>120.208388</td>\n",
       "      <td>69.743681</td>\n",
       "      <td>19</td>\n",
       "      <td>41.981019</td>\n",
       "      <td>35</td>\n",
       "      <td>3.183763</td>\n",
       "      <td>9</td>\n",
       "      <td>Chair</td>\n",
       "      <td>Glass</td>\n",
       "      <td>Brown</td>\n",
       "      <td>...</td>\n",
       "      <td>BrandD</td>\n",
       "      <td>-4588.255733</td>\n",
       "      <td>-4657.999415</td>\n",
       "      <td>Loss</td>\n",
       "      <td>101.520048</td>\n",
       "      <td>-241.487144</td>\n",
       "      <td>-131.093021</td>\n",
       "      <td>3.670720</td>\n",
       "      <td>No</td>\n",
       "      <td>Medium</td>\n",
       "    </tr>\n",
       "  </tbody>\n",
       "</table>\n",
       "<p>5 rows × 23 columns</p>\n",
       "</div>"
      ],
      "text/plain": [
       "        price        cost  sales  profit_margin  inventory  \\\n",
       "0  218.543054  181.610932     40      16.899243        105   \n",
       "1  477.821438  385.033827      7      19.418888        192   \n",
       "2  379.397274  276.736765     32      27.058842         59   \n",
       "3  319.396318  281.841334     48      11.758114         45   \n",
       "4  120.208388   69.743681     19      41.981019         35   \n",
       "\n",
       "   discount_percentage  delivery_days category material  color  ...   brand  \\\n",
       "0            27.796433              9      Bed  Plastic    Red  ...  BrandA   \n",
       "1            26.943715              6    Chair    Glass   Blue  ...  BrandD   \n",
       "2            21.948130              2    Table    Metal  Black  ...  BrandD   \n",
       "3            11.009944              2    Table    Glass  Green  ...  BrandD   \n",
       "4             3.183763              9    Chair    Glass  Brown  ...  BrandD   \n",
       "\n",
       "        revenue        Profit Profit_Status  Profit_Margin_%  \\\n",
       "0   3949.165238   3767.554307        Profit        95.401283   \n",
       "1  -3521.002258  -3906.036085          Loss       110.935347   \n",
       "2  14285.560220  14008.823450        Profit        98.062822   \n",
       "3  12261.073700  11979.232370        Profit        97.701332   \n",
       "4  -4588.255733  -4657.999415          Loss       101.520048   \n",
       "\n",
       "   Revenue_per_Sale Revenue_per_Inventory  Unit_Cost  Is_High_Value  \\\n",
       "0         98.729131             37.611098   4.540273            Yes   \n",
       "1       -503.000322            -18.338553  55.004832             No   \n",
       "2        446.423757            242.128139   8.648024            Yes   \n",
       "3        255.439035            272.468304   5.871694            Yes   \n",
       "4       -241.487144           -131.093021   3.670720             No   \n",
       "\n",
       "   Price_Category  \n",
       "0          Medium  \n",
       "1            High  \n",
       "2          Medium  \n",
       "3          Medium  \n",
       "4          Medium  \n",
       "\n",
       "[5 rows x 23 columns]"
      ]
     },
     "metadata": {},
     "output_type": "display_data"
    }
   ],
   "source": [
    "mismatch = df[df['Profit'] != (df['revenue'] - df['cost'])]\n",
    "print(\"Profit mismatches:\", len(mismatch))\n",
    "if len(mismatch) > 0:\n",
    "    display(mismatch.head())"
   ]
  },
  {
   "cell_type": "code",
   "execution_count": 70,
   "id": "614c8f6a",
   "metadata": {},
   "outputs": [],
   "source": [
    "# Recalculate Profit\n",
    "df['Profit'] = df['revenue'] - df['cost']\n",
    "\n",
    "# Round to 2 decimals to avoid tiny differences\n",
    "df['Profit'] = df['Profit'].round(2)\n"
   ]
  },
  {
   "cell_type": "code",
   "execution_count": 71,
   "id": "cc6d47cb",
   "metadata": {},
   "outputs": [],
   "source": [
    "# Update Profit_Status based on Profit\n",
    "df.loc[df['Profit'] > 0, 'Profit_Status'] = 'Profit'\n",
    "df.loc[df['Profit'] <= 0, 'Profit_Status'] = 'Loss'"
   ]
  },
  {
   "cell_type": "code",
   "execution_count": 72,
   "id": "37c34d1c",
   "metadata": {},
   "outputs": [
    {
     "name": "stdout",
     "output_type": "stream",
     "text": [
      "Profit_Status mismatches after fix: 0\n"
     ]
    }
   ],
   "source": [
    "mismatch = df[((df['Profit'] > 0) & (df['Profit_Status'] != 'Profit')) |\n",
    "              ((df['Profit'] <= 0) & (df['Profit_Status'] != 'Loss'))]\n",
    "print(\"Profit_Status mismatches after fix:\", len(mismatch))"
   ]
  },
  {
   "cell_type": "code",
   "execution_count": 73,
   "id": "a1e6223f",
   "metadata": {},
   "outputs": [
    {
     "name": "stdout",
     "output_type": "stream",
     "text": [
      "Revenue_per_Inventory min, max: -6599.225594 23822.88993\n"
     ]
    }
   ],
   "source": [
    "print(\"Revenue_per_Inventory min, max:\", df['Revenue_per_Inventory'].min(), df['Revenue_per_Inventory'].max())"
   ]
  },
  {
   "cell_type": "code",
   "execution_count": 74,
   "id": "93c6a1c7",
   "metadata": {},
   "outputs": [
    {
     "name": "stdout",
     "output_type": "stream",
     "text": [
      "Profit_Status mismatches: 0\n"
     ]
    }
   ],
   "source": [
    "mismatch_status = df[((df['Profit'] > 0) & (df['Profit_Status'] != 'Profit')) |\n",
    "                     ((df['Profit'] <= 0) & (df['Profit_Status'] != 'Loss'))]\n",
    "print(\"Profit_Status mismatches:\", len(mismatch_status))\n"
   ]
  },
  {
   "cell_type": "code",
   "execution_count": 75,
   "id": "365fbc0a",
   "metadata": {},
   "outputs": [
    {
     "name": "stdout",
     "output_type": "stream",
     "text": [
      "        price        cost  sales  profit_margin  inventory  \\\n",
      "0  218.543054  181.610932     40      16.899243        105   \n",
      "2  379.397274  276.736765     32      27.058842         59   \n",
      "3  319.396318  281.841334     48      11.758114         45   \n",
      "5  120.197534   65.352083      6      45.629432        185   \n",
      "6   76.137625   64.076267     20      15.841521        165   \n",
      "\n",
      "   discount_percentage  delivery_days category material  color  ...   brand  \\\n",
      "0            27.796433              9      Bed  Plastic    Red  ...  BrandA   \n",
      "2            21.948130              2    Table    Metal  Black  ...  BrandD   \n",
      "3            11.009944              2    Table    Glass  Green  ...  BrandD   \n",
      "5            20.659352              8    Table  Plastic  Brown  ...  BrandB   \n",
      "6            29.359622              9     Sofa    Glass  Green  ...  BrandA   \n",
      "\n",
      "        revenue    Profit Profit_Status  Profit_Margin_%  Revenue_per_Sale  \\\n",
      "0   3949.165238   3767.55        Profit        95.401283         98.729131   \n",
      "2  14285.560220  14008.82        Profit        98.062822        446.423757   \n",
      "3  12261.073700  11979.23        Profit        97.701332        255.439035   \n",
      "5   9136.301617   9070.95        Profit        99.284699       1522.716936   \n",
      "6   4128.412805   4064.34        Profit        98.447920        206.420640   \n",
      "\n",
      "  Revenue_per_Inventory  Unit_Cost  Is_High_Value  Price_Category  \n",
      "0             37.611098   4.540273            Yes          Medium  \n",
      "2            242.128139   8.648024            Yes          Medium  \n",
      "3            272.468304   5.871694            Yes          Medium  \n",
      "5             49.385414  10.892014            Yes          Medium  \n",
      "6             25.020684   3.203813            Yes             Low  \n",
      "\n",
      "[5 rows x 23 columns]\n"
     ]
    }
   ],
   "source": [
    "if 'Is_High_Value' in df.columns:\n",
    "    print(df[df['Is_High_Value']=='Yes'].head())"
   ]
  },
  {
   "cell_type": "code",
   "execution_count": 78,
   "id": "b8e1dfdd",
   "metadata": {},
   "outputs": [
    {
     "name": "stdout",
     "output_type": "stream",
     "text": [
      "Validated files saved successfully.\n"
     ]
    }
   ],
   "source": [
    "df.to_csv(r\"C:\\Users\\neman\\Documents\\sales_data_analysis\\validated\\Validated_Data_Furniture.csv\", index=False)\n",
    "df.to_excel(r\"C:\\Users\\neman\\Documents\\sales_data_analysis\\excel\\Validated_Data_Furniture.xlsx\", index=False)\n",
    "print(\"Validated files saved successfully.\")"
   ]
  }
 ],
 "metadata": {
  "kernelspec": {
   "display_name": "Python 3",
   "language": "python",
   "name": "python3"
  },
  "language_info": {
   "codemirror_mode": {
    "name": "ipython",
    "version": 3
   },
   "file_extension": ".py",
   "mimetype": "text/x-python",
   "name": "python",
   "nbconvert_exporter": "python",
   "pygments_lexer": "ipython3",
   "version": "3.14.0"
  }
 },
 "nbformat": 4,
 "nbformat_minor": 5
}
